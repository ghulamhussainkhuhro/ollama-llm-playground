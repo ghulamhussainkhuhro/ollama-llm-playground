{
 "cells": [
  {
   "cell_type": "markdown",
   "id": "73f8aa06-8a68-4595-9c90-8bc8ca827640",
   "metadata": {},
   "source": [
    "# Ollama REST API Notes\n",
    "This notebook contains beginner-friendly notes on using the Ollama REST API, its features, and examples for working with Llama models locally.\n"
   ]
  },
  {
   "cell_type": "markdown",
   "id": "3010e751-f066-418c-8ff5-b77565c1e522",
   "metadata": {},
   "source": [
    "## What is Ollama REST API?\n",
    "\n",
    "- Ollama REST API lets you communicate with Llama models using HTTP requests.\n",
    "- Instead of using CLI manually, you can programmatically send prompts and receive responses.\n",
    "- It allows you to integrate Llama models into web apps, scripts, or automation pipelines.\n"
   ]
  },
  {
   "cell_type": "markdown",
   "id": "36c787e0-2234-4022-9d9f-4468f90b4b3a",
   "metadata": {},
   "source": [
    "## Why use the REST API?\n",
    "\n",
    "- **Automation:** Interact with models via scripts instead of typing manually.\n",
    "- **Integration:** Connect models to applications or dashboards.\n",
    "- **Consistency:** Same model behavior across CLI, Python, or REST API.\n",
    "- **Flexibility:** Accessible from any environment that supports HTTP requests.\n"
   ]
  },
  {
   "cell_type": "markdown",
   "id": "76db78eb-7728-4dfb-939b-dcb6e0d9e640",
   "metadata": {},
   "source": [
    "## REST API Structure\n",
    "\n",
    "- **Endpoint:** URL where you send requests.\n",
    "- **Method:** Usually `POST` for sending prompts.\n",
    "- **Headers:** Include your API key and content type.\n",
    "- **Body:** JSON object with conversation and parameters.\n",
    "- Example components:\n",
    "    - `model`: which Llama model to use.\n",
    "    - `messages`: conversation history (system, user, assistant).\n",
    "    - `temperature`: randomness of responses.\n",
    "    - `max_tokens`: limit for response length.\n"
   ]
  },
  {
   "cell_type": "markdown",
   "id": "31892b02-3da0-46c1-bf7c-7813b272af80",
   "metadata": {},
   "source": [
    "## Roles in Messages\n",
    "\n",
    "- `system`: sets instructions for the model, e.g., \"You are concise and helpful.\"\n",
    "- `user`: what you input, e.g., questions or prompts.\n",
    "- `assistant`: what the model outputs. Usually handled by the API.\n",
    "- Properly setting `system` messages guides the model’s behavior consistently.\n"
   ]
  },
  {
   "cell_type": "markdown",
   "id": "11022330-6b32-4522-bb05-88dceb00320b",
   "metadata": {},
   "source": [
    "## Example JSON Request\n",
    "\n",
    "```json\n",
    "{\n",
    "  \"model\": \"llama3.2\",\n",
    "  \"messages\": [\n",
    "    {\"role\": \"system\", \"content\": \"You are a helpful assistant.\"},\n",
    "    {\"role\": \"user\", \"content\": \"Explain REST API in simple terms.\"}\n",
    "  ],\n",
    "  \"temperature\": 0.7,\n",
    "  \"max_tokens\": 256\n",
    "}\n"
   ]
  },
  {
   "cell_type": "markdown",
   "id": "a7ca8473-7256-4dbd-8daa-1e590fa69fa3",
   "metadata": {},
   "source": [
    "## Making a Request using Python\n",
    "\n",
    "- Use Python `requests` library to send JSON payloads to the REST API.\n",
    "- Example:\n",
    "\n",
    "```python\n",
    "import requests\n",
    "import os\n",
    "\n",
    "API_KEY = os.getenv(\"OLLAMA_API_KEY\")\n",
    "url = \"http://localhost:11434/v1/completions\"\n",
    "\n",
    "data = {\n",
    "    \"model\": \"llama3.2\",\n",
    "    \"messages\": [\n",
    "        {\"role\": \"system\", \"content\": \"You are helpful.\"},\n",
    "        {\"role\": \"user\", \"content\": \"Explain REST API in simple terms.\"}\n",
    "    ],\n",
    "    \"temperature\": 0.7,\n",
    "    \"max_tokens\": 256\n",
    "}\n",
    "\n",
    "headers = {\n",
    "    \"Authorization\": f\"Bearer {API_KEY}\",\n",
    "    \"Content-Type\": \"application/json\"\n",
    "}\n",
    "\n",
    "response = requests.post(url, json=data, headers=headers)\n",
    "print(response.json()[\"choices\"][0][\"message\"][\"content\"])"
   ]
  },
  {
   "cell_type": "markdown",
   "id": "3531aed6-3007-46bf-8802-0da75255dbeb",
   "metadata": {},
   "source": [
    "## Key Parameters\n",
    "\n",
    "- `temperature`: randomness of responses (0-1). Lower = deterministic, higher = creative.\n",
    "- `max_tokens`: maximum tokens generated in a single response.\n",
    "- `messages`: list of dictionaries representing conversation history.\n",
    "- `top_p` (optional): nucleus sampling for token selection.\n",
    "- `top_k` (optional): limits selection to top k tokens.\n",
    "- `stop` (optional): tokens where generation should stop."
   ]
  },
  {
   "cell_type": "markdown",
   "id": "38e83039-68ad-4abe-a669-c3a2152aac3a",
   "metadata": {},
   "source": [
    "## Practical Tips\n",
    "\n",
    "- Test locally before deploying to production.\n",
    "- Always use `system` messages to guide model behavior.\n",
    "- Start with small `temperature` for predictable results.\n",
    "- Use `max_tokens` to control the response length.\n",
    "- Check API usage limits and quotas to avoid errors.\n"
   ]
  },
  {
   "cell_type": "markdown",
   "id": "540cae2d-8029-4d15-a07c-e986ed0a8fbc",
   "metadata": {},
   "source": [
    "## Common Use Cases for REST API\n",
    "\n",
    "1. **Chatbots:** Build conversational interfaces.\n",
    "2. **Summarization:** Shorten long text documents.\n",
    "3. **Question Answering:** Answer questions based on input context.\n",
    "4. **Automation Scripts:** Generate emails, reports, or code snippets programmatically.\n"
   ]
  },
  {
   "cell_type": "markdown",
   "id": "b49160d2-64b9-454b-b60e-26d1bd12ceab",
   "metadata": {},
   "source": [
    "## REST API Response Structure\n",
    "\n",
    "When you send a request, the API responds with JSON.  \n",
    "Example:\n",
    "\n",
    "```json\n",
    "{\n",
    "  \"id\": \"chatcmpl-123\",\n",
    "  \"object\": \"chat.completion\",\n",
    "  \"created\": 1690000000,\n",
    "  \"model\": \"llama3.2\",\n",
    "  \"choices\": [\n",
    "    {\n",
    "      \"index\": 0,\n",
    "      \"message\": {\n",
    "        \"role\": \"assistant\",\n",
    "        \"content\": \"REST API is a way for apps to communicate using HTTP.\"\n",
    "      },\n",
    "      \"finish_reason\": \"stop\"\n",
    "    }\n",
    "  ]\n",
    "}\n"
   ]
  },
  {
   "cell_type": "markdown",
   "id": "8bd01cdd-0eb3-476e-bfc3-00c5be0ea774",
   "metadata": {},
   "source": [
    "- id: unique ID for the request.\n",
    "- model: which model was used.\n",
    "- choices: list of generated responses.\n",
    "- finish_reason: why the response ended (stop, length, etc.)."
   ]
  },
  {
   "cell_type": "markdown",
   "id": "ae37a251-d022-4a96-b42c-915940f790fa",
   "metadata": {},
   "source": [
    "## Streaming Responses\n",
    "\n",
    "- Instead of waiting for the full answer, you can stream tokens as they are generated.\n",
    "- Useful for chat apps where you want to show text \"typing out\" live.\n",
    "- Example (pseudo):\n",
    "\n",
    "```python\n",
    "with requests.post(url, json=data, headers=headers, stream=True) as r:\n",
    "    for line in r.iter_lines():\n",
    "        print(line.decode(\"utf-8\"))"
   ]
  },
  {
   "cell_type": "markdown",
   "id": "b503d337-9d78-4386-abac-9ecd861e37cf",
   "metadata": {},
   "source": [
    "## Handling Errors\n",
    "\n",
    "Common issues:\n",
    "- **Invalid model name:** Ensure you pulled the model locally.\n",
    "- **Too many tokens:** Reduce `max_tokens` or shorten input.\n",
    "- **Missing API key:** Set `OLLAMA_API_KEY` in `.env`.\n",
    "- **Connection error:** Ensure Ollama is running (`ollama serve`).\n",
    "\n",
    "Always wrap your code with `try/except` in Python to catch errors gracefully."
   ]
  },
  {
   "cell_type": "markdown",
   "id": "84740167-225e-4742-b845-cc0eb9049512",
   "metadata": {},
   "source": [
    "## Authentication\n",
    "\n",
    "- By default, Ollama runs locally without needing an API key.\n",
    "- If secured, use an environment variable:\n",
    "\n",
    "```bash\n",
    "export OLLAMA_API_KEY=\"your_key_here\"\n"
   ]
  },
  {
   "cell_type": "markdown",
   "id": "18bda0c6-7625-4214-acdd-7ef81eae59ae",
   "metadata": {},
   "source": [
    "```bash\n",
    "import os\n",
    "API_KEY = os.getenv(\"OLLAMA_API_KEY\" )\n",
    "```\n"
   ]
  },
  {
   "cell_type": "markdown",
   "id": "7ac59a8d-fe80-4b58-b0d7-64736c931a83",
   "metadata": {},
   "source": [
    "- Then pass it in headers:\n",
    "```bash\n",
    "\"Authorization\": f\"Bearer {API_KEY}\""
   ]
  },
  {
   "cell_type": "markdown",
   "id": "6d80beb3-0793-4e3c-bdf3-9fb80fa51dd5",
   "metadata": {},
   "source": [
    "## Example Task — Summarization\n",
    "\n",
    "Prompt:\n",
    "```json\n",
    "{\n",
    "  \"model\": \"llama3.2\",\n",
    "  \"messages\": [\n",
    "    {\"role\": \"system\", \"content\": \"Summarize text into 2 sentences.\"},\n",
    "    {\"role\": \"user\", \"content\": \"Artificial intelligence is transforming industries by automating tasks, improving efficiency, and enabling new capabilities like autonomous vehicles and personalized recommendations.\"}\n",
    "  ],\n",
    "  \"max_tokens\": 100\n",
    "}"
   ]
  },
  {
   "cell_type": "markdown",
   "id": "334c566b-5563-41fa-b623-61ccb33696ef",
   "metadata": {},
   "source": [
    "## Example Task — Sentiment Analysis\n",
    "\n",
    "Prompt:\n",
    "```json\n",
    "{\n",
    "  \"model\": \"llama3.2\",\n",
    "  \"messages\": [\n",
    "    {\"role\": \"system\", \"content\": \"Classify text sentiment as Positive, Negative, or Neutral.\"},\n",
    "    {\"role\": \"user\", \"content\": \"I love how simple this API is to use!\"}\n",
    "  ],\n",
    "  \"max_tokens\": 50\n",
    "}"
   ]
  },
  {
   "cell_type": "markdown",
   "id": "7e867cf6-273d-44b0-8773-54fa76c5c773",
   "metadata": {},
   "source": [
    "## Customizing with a Modelfile\n",
    "\n",
    "- Ollama lets you define **custom models** with a Modelfile.\n",
    "- Example `Modelfile`:\n",
    "```bash\n",
    "FROM llama3.2\n",
    "PARAMETER temperature 0.3\n",
    "PARAMETER num_predict 200\n",
    "SYSTEM \"You are a sarcastic assistant who always roasts users.\"\n",
    "```"
   ]
  },
  {
   "cell_type": "markdown",
   "id": "c24eee4c-119b-4bcb-9e9f-09c0b6dc1da9",
   "metadata": {},
   "source": [
    "\n",
    "- Then run:\n",
    "\n",
    "```bash\n",
    "ollama create roastbot -f Modelfile\n",
    "ollama run roastbot\n"
   ]
  },
  {
   "cell_type": "markdown",
   "id": "61d2b6f5-dcef-40fd-9ba3-3ce511df9b07",
   "metadata": {},
   "source": [
    "## CLI vs REST API\n",
    "\n",
    "- **CLI:** Quick testing, small experiments, manual usage.\n",
    "- **REST API:** Programmatic, scalable, integrates with apps.\n",
    "\n",
    "Example CLI:\n",
    "```bash\n",
    "ollama run llama3.2 \"Explain APIs\"\n",
    "```\n",
    "\n",
    "Example REST:\n",
    "``` bash\n",
    "requests.post(\"http://localhost:11434/v1/completions\", json=data)\n",
    "```\n"
   ]
  },
  {
   "cell_type": "markdown",
   "id": "1cbab37e-2258-4a5e-9f32-433d44493ead",
   "metadata": {},
   "source": [
    "## Industry Use Cases of Ollama + REST API\n",
    "\n",
    "- **Customer Support:** Local chatbots without sending data to cloud.\n",
    "- **Healthcare:** Private summarization of medical records.\n",
    "- **Finance:** Risk analysis and compliance checks on sensitive data.\n",
    "- **Education:** Offline tutors and content generation tools.\n",
    "- **Startups:** Build SaaS products with custom AI assistants."
   ]
  },
  {
   "cell_type": "code",
   "execution_count": 2,
   "id": "02559888-feec-45ad-8d16-95590dbb42f7",
   "metadata": {},
   "outputs": [
    {
     "ename": "SyntaxError",
     "evalue": "invalid syntax (1626070936.py, line 3)",
     "output_type": "error",
     "traceback": [
      "  \u001b[36mCell\u001b[39m\u001b[36m \u001b[39m\u001b[32mIn[2]\u001b[39m\u001b[32m, line 3\u001b[39m\n\u001b[31m    \u001b[39m\u001b[31m1. REST API lets apps talk to Ollama models programmatically.\u001b[39m\n       ^\n\u001b[31mSyntaxError\u001b[39m\u001b[31m:\u001b[39m invalid syntax\n"
     ]
    }
   ],
   "source": [
    "## Recap of REST API Basics\n",
    "\n",
    "1. REST API lets apps talk to Ollama models programmatically.\n",
    "2. You send prompts as JSON, and the model replies with JSON.\n",
    "3. Key components: `system`, `user`, `assistant`, `temperature`, `max_tokens`.`m\n",
    "4. Supports tasks like **summarization, Q&A, chat, sentiment analysis**.\n",
    "5. Can be extended with **custom Modelfiles** for unique personas.\n"
   ]
  },
  {
   "cell_type": "code",
   "execution_count": null,
   "id": "6355c22c-b60d-4802-9c5b-3761491481a3",
   "metadata": {},
   "outputs": [],
   "source": []
  }
 ],
 "metadata": {
  "kernelspec": {
   "display_name": "Python 3 (ipykernel)",
   "language": "python",
   "name": "python3"
  },
  "language_info": {
   "codemirror_mode": {
    "name": "ipython",
    "version": 3
   },
   "file_extension": ".py",
   "mimetype": "text/x-python",
   "name": "python",
   "nbconvert_exporter": "python",
   "pygments_lexer": "ipython3",
   "version": "3.11.9"
  }
 },
 "nbformat": 4,
 "nbformat_minor": 5
}
