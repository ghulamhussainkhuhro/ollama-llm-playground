{
 "cells": [
  {
   "cell_type": "markdown",
   "id": "7acd5e7f-e180-4d70-9bd0-b1e7863791e8",
   "metadata": {},
   "source": [
    "# 📝 Ollama Notes - Custom Models & Commands\n",
    "A quick guide to running, customizing, and debugging Ollama models.\n"
   ]
  },
  {
   "cell_type": "markdown",
   "id": "788faec1-c0d9-46af-98d6-764618fe824a",
   "metadata": {},
   "source": [
    "# 🚀 Introduction to Ollama\n",
    "Ollama is a tool that makes it easy to **run Large Language Models (LLMs) locally** on your own machine.  \n",
    "Instead of always relying on cloud APIs (like OpenAI, Anthropic, etc.), Ollama lets you:\n",
    "- Run models like Llama 3, Mistral, Gemma, etc.\n",
    "- Customize them with your own instructions.\n",
    "- Use them offline without sending data to external servers.\n"
   ]
  },
  {
   "cell_type": "markdown",
   "id": "1887e249-0573-4fba-92e3-5ea1a434943c",
   "metadata": {},
   "source": [
    "## 🌍 Why Ollama Matters\n",
    "- **Privacy** → Data stays on your device, no leaks.\n",
    "- **Cost-saving** → No API bills, run models for free once downloaded.\n",
    "- **Customization** → Easily build your own model personalities using Modelfiles.\n",
    "- **Experimentation** → Test multiple open-source LLMs locally.\n"
   ]
  },
  {
   "cell_type": "markdown",
   "id": "2457ba6f-f31b-4a97-bcd9-90ac0608ecd3",
   "metadata": {},
   "source": [
    "## 🏭 Industry Use Cases of Ollama\n",
    "1. **Prototyping AI Products** → Quickly test prompts and personalities before scaling.\n",
    "2. **Local Agents** → Build personal assistants without API limits.\n",
    "3. **Enterprise Security** → Companies keep sensitive data in-house.\n",
    "4. **Education** → Students/Researchers explore LLMs without cloud dependency.\n",
    "5. **AI Communities** → Share customized models (e.g., roasting bots, tutors).\n"
   ]
  },
  {
   "cell_type": "markdown",
   "id": "61046c74-4690-49ce-b682-03ae7c068a24",
   "metadata": {},
   "source": [
    "## 🔑 Ollama vs Cloud APIs\n",
    "- **Ollama** → Runs locally, free after download, limited by your hardware.\n",
    "- **APIs (OpenAI, Groq, Anthropic)** → Cloud power, larger models, but costs money.\n",
    "👉 Think of Ollama as a **personal playground** for LLMs before going enterprise-scale.\n"
   ]
  },
  {
   "cell_type": "markdown",
   "id": "f9785868-803c-4a1c-8dfe-251e8990459f",
   "metadata": {},
   "source": [
    "## 🧱 Core Concepts\n",
    "- **Model** → Pretrained LLM (e.g., Llama 3.2).\n",
    "- **Modelfile** → A config file to customize how the model behaves.\n",
    "- **Parameters** → Settings like temperature, top_p, top_k that control creativity.\n",
    "- **System Prompt** → Defines the bot’s personality and tone.\n"
   ]
  },
  {
   "cell_type": "markdown",
   "id": "c827c0c6-65dc-4a40-9d82-33584d662270",
   "metadata": {},
   "source": [
    "## ⚡ Advantages of Ollama\n",
    "- Very **easy to install and run** (`ollama run llama3.2`).\n",
    "- Built-in **prompting and fine-tuning** options.\n",
    "- Models are **optimized for laptops** (uses GPU if available).\n",
    "- Can connect with frameworks like **LangChain, LlamaIndex, and FastAPI**.\n"
   ]
  },
  {
   "cell_type": "markdown",
   "id": "5492c08e-5299-443e-bc88-263d403555ac",
   "metadata": {},
   "source": [
    "## 🔧 Practical Use Cases You Can Build\n",
    "- **Chatbots** → Customer support, personal assistants.\n",
    "- **Creative Writing** → Story generation, dark humor bots, content ideas.\n",
    "- **Coding Help** → Local AI pair programmer.\n",
    "- **Education Tools** → Tutors that never stop roasting 😈.\n",
    "- **Voice Agents** → Combine with STT/TTS for Jarvis-like bots.\n"
   ]
  },
  {
   "cell_type": "markdown",
   "id": "46e33860-1e2e-4827-b24a-16739da20e25",
   "metadata": {},
   "source": [
    "## 🏢 How Industry Actually Uses Ollama\n",
    "- **Startups** → Rapid prototyping of AI tools before scaling with APIs.\n",
    "- **Researchers** → Experiment with open-source models for benchmarking.\n",
    "- **Enterprises** → Internal-only assistants (legal, medical, banking).\n",
    "- **Creators** → Make niche bots (fitness coach, therapist, meme generator).\n"
   ]
  },
  {
   "cell_type": "markdown",
   "id": "c029e2ce-e8e5-4d48-a49a-8e175d79432f",
   "metadata": {},
   "source": [
    "## ⚠️ Limitations to Keep in Mind\n",
    "- Dependent on your **local hardware (RAM + GPU)**.\n",
    "- Models are smaller than enterprise cloud models → may feel less powerful.\n",
    "- Limited ecosystem compared to cloud LLM APIs.\n",
    "- Not always production-ready → mainly for testing and personal use.\n"
   ]
  },
  {
   "cell_type": "markdown",
   "id": "72d96caf-274e-4648-bde7-4fb151e27759",
   "metadata": {},
   "source": [
    "## 🎯 What You Should Focus On (as a learner)\n",
    "1. Master **basic Ollama commands**.\n",
    "2. Learn to **create and customize models** with Modelfiles.\n",
    "3. Experiment with **different parameters** (temperature, top_p, etc.).\n",
    "4. Build **fun use cases** (roasting bots, concise tutors).\n",
    "5. Later → Connect with **LangChain or FastAPI** for real-world apps.\n"
   ]
  },
  {
   "cell_type": "markdown",
   "id": "1ebe61d2-c980-4c6b-aec8-6f74d36a2c17",
   "metadata": {},
   "source": [
    "## 🔹 Basic Ollama Commands"
   ]
  },
  {
   "cell_type": "markdown",
   "id": "b48c8c2c-d195-4977-b444-5557de53fedf",
   "metadata": {},
   "source": [
    "### Check installed models\n",
    "ollama list\n",
    "\n",
    "### Run a default model\n",
    "ollama run llama3.2\n",
    "\n",
    "### Pull a model from Ollama registry\n",
    "ollama pull llama3.2\n",
    "\n",
    "### Delete a model\n",
    "ollama rm llama3.2\n",
    "\n",
    "### Show logs (useful for debugging)\n",
    "ollama logs\n"
   ]
  },
  {
   "cell_type": "markdown",
   "id": "a5869660-4888-43c6-a31f-6ec64d1ef25f",
   "metadata": {},
   "source": [
    "# 🔹 Creating a Custom Model (Modelfile)\n",
    "1. **Create a Modelfile**  \n",
    "   Example: `roast.Modelfile`\n"
   ]
  },
  {
   "cell_type": "markdown",
   "id": "293089e7-dd83-479f-8b07-e0caabae4a5e",
   "metadata": {},
   "source": [
    "FROM llama3.2\n",
    "\n",
    "PARAMETER temperature 0.7\n",
    "\n",
    "SYSTEM \"\"\"\n",
    "You are a sarcastic roast bot.\n",
    "Roast the user brutally before answering their question.\n",
    "\"\"\""
   ]
  },
  {
   "cell_type": "markdown",
   "id": "f97e0779-4146-4269-a0bc-bc81329fbfc3",
   "metadata": {},
   "source": [
    "# Build the model\n",
    "ollama create roastbot -f roast.Modelfile\n",
    "\n",
    "# Run it\n",
    "ollama run roastbot\n"
   ]
  },
  {
   "cell_type": "markdown",
   "id": "562ffea0-6923-43d9-85a7-a2eacfc8ce0e",
   "metadata": {},
   "source": [
    "## 🔹 Common Parameters Explained\n",
    "\n",
    "- **`temperature`** → randomness.  \n",
    "  - Low (0.2–0.4) = focused, boring  \n",
    "  - Medium (0.6) = spicy, balanced  \n",
    "  - High (0.9–1.2) = chaotic, meme-tier  \n",
    "\n",
    "- **`top_p`** → restricts token choices by probability (nucleus sampling). Lower = safer, higher = riskier.  \n",
    "\n",
    "- **`top_k`** → only choose from the top-k most likely tokens. Smaller = more predictable.  \n",
    "\n",
    "- **`num_ctx`** → how much memory (tokens) the model keeps in mind. Bigger = remembers more.  \n",
    "\n",
    "- **`num_predict`** → max tokens to generate in one reply.  \n",
    "\n",
    "- **`repeat_penalty`** → prevents the model from spamming the same roast again & again.  \n",
    "\n",
    "- **`seed`** → same seed = same roast (useful for reproducibility).\n"
   ]
  },
  {
   "cell_type": "markdown",
   "id": "ec4a194f-f353-4012-9fa5-4e442739be6e",
   "metadata": {},
   "source": [
    "## 🔹 Debugging Common Errors\n",
    "\n",
    "- **`invalid float value`** → Don’t put comments after numbers.  \n",
    "  ❌ `temperature 0.6 # comment`  \n",
    "  ✅ `temperature 0.6`\n",
    "\n",
    "- **`unexpected EOF`** → Always close `SYSTEM \"\"\" ... \"\"\"` properly with triple quotes and end the file with a newline.  \n",
    "\n",
    "- **Model not found** → Run `ollama pull llama3.2` first.\n"
   ]
  },
  {
   "cell_type": "markdown",
   "id": "52eac579-b3a0-4b12-a8ea-1e8499d30b1e",
   "metadata": {},
   "source": [
    "## 🔹 Best Workflow\n",
    "\n",
    "1. Start simple:\n",
    "```bash\n",
    "ollama run llama3.2\n",
    "```\n",
    "2. Clone & tweak:\n",
    "\n",
    "- Make a Modelfile\n",
    "- Add personality/system instructions\n",
    "- Adjust parameters\n",
    "\n",
    "3. Build & test:\n",
    "```bash\n",
    "ollama create customname -f file.Modelfile\n",
    "ollama run customname\n",
    "```\n"
   ]
  },
  {
   "cell_type": "code",
   "execution_count": null,
   "id": "ce137740-c9c1-44f8-84ed-75dd2b38a384",
   "metadata": {},
   "outputs": [],
   "source": []
  }
 ],
 "metadata": {
  "kernelspec": {
   "display_name": "Python 3 (ipykernel)",
   "language": "python",
   "name": "python3"
  },
  "language_info": {
   "codemirror_mode": {
    "name": "ipython",
    "version": 3
   },
   "file_extension": ".py",
   "mimetype": "text/x-python",
   "name": "python",
   "nbconvert_exporter": "python",
   "pygments_lexer": "ipython3",
   "version": "3.11.9"
  }
 },
 "nbformat": 4,
 "nbformat_minor": 5
}
